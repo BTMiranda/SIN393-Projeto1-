{
 "cells": [
  {
   "cell_type": "code",
   "execution_count": null,
   "id": "e4c8dd53-20e9-4720-9111-96269cf964ca",
   "metadata": {},
   "outputs": [],
   "source": [
    "# !pip install matplotlib\n",
    "# !pip install seaborn\n",
    "# !pip install pandas\n",
    "# !pip install scikit-image\n",
    "# !pip install -U scikit-learn\n",
    "\n",
    "\n"
   ]
  },
  {
   "cell_type": "markdown",
   "id": "d2a3a0e3-98f6-4dec-a82e-52d92e624090",
   "metadata": {},
   "source": [
    "# Bibliotecas"
   ]
  },
  {
   "cell_type": "code",
   "execution_count": null,
   "id": "b276051b-8e62-4968-ae8b-77749fc751f1",
   "metadata": {},
   "outputs": [],
   "source": [
    "import os\n",
    "\n",
    "import numpy as np\n",
    "import math\n",
    "\n",
    "from skimage import util, transform, filters, color, measure, morphology\n",
    "from sklearn import model_selection, neighbors, metrics, preprocessing\n",
    "\n",
    "from skimage import util, transform, filters, color, measure, morphology\n",
    "from sklearn import model_selection, neighbors, metrics, preprocessing\n",
    "from skimage.measure import label as skimage_label, regionprops\n",
    "from skimage.morphology import remove_small_objects, remove_small_holes\n",
    "from sklearn.neighbors import RadiusNeighborsClassifier\n",
    "\n",
    "import matplotlib.pyplot as plt\n",
    "import seaborn as sns\n",
    "import pandas as pd\n",
    "\n",
    "### %matplotlib notebook\n",
    "### %matplotlib widget"
   ]
  },
  {
   "cell_type": "markdown",
   "id": "9c56208b-333f-4610-85d0-bae2fe8ccbb3",
   "metadata": {},
   "source": [
    "# Dataset"
   ]
  },
  {
   "cell_type": "code",
   "execution_count": null,
   "id": "222f64b9-29ab-4425-bf5b-72079b49b33f",
   "metadata": {},
   "outputs": [],
   "source": [
    "# Local do Dataset (6 Classes)\n",
    "dataset = \"dataset\""
   ]
  },
  {
   "cell_type": "code",
   "execution_count": null,
   "id": "9bbeec86-8bbc-4143-828a-2eb42e6cafb7",
   "metadata": {},
   "outputs": [],
   "source": [
    "# Lista das pastas na pasta 'dataset' (nomes das classes)\n",
    "classes_list = os.listdir(dataset)\n",
    "\n",
    "# Lista com as imagens no dataset\n",
    "image_list = []\n",
    "\n",
    "# Lista com os rótulos das imagens\n",
    "label_list = []\n",
    "\n",
    "# Lista com os nomes das imagens\n",
    "filename_list_ = []\n",
    "\n",
    "# Percorre as classes do dataset\n",
    "for classe in classes_list:\n",
    "    \n",
    "    # Listagem de todas as imagens na pasta daquela classe\n",
    "    filename_list = os.listdir(os.path.join(dataset, classe))\n",
    "    \n",
    "    # Percorre os arquivos na pasta atual\n",
    "    for filename in filename_list:\n",
    "        # Carrega a imagem\n",
    "        img_temp = plt.imread(os.path.join(dataset, classe, filename))\n",
    "        \n",
    "        # Redimensiona a imagem para 1/4 do tamanho original\n",
    "        img_temp = transform.resize(img_temp, (img_temp.shape[0]//4, img_temp.shape[1]//4), anti_aliasing=True)\n",
    "        \n",
    "        # Adiciona a imagem a lista de imagens\n",
    "        image_list.append(img_temp)\n",
    "        \n",
    "        # Adiciona o rótulo da imagem à lista de rótulos\n",
    "        label_list.append(classe)\n",
    "        \n",
    "        # Adiciona o nome da imagem à uma lista (para fins de visualização)\n",
    "        filename_list_.append(filename)"
   ]
  },
  {
   "cell_type": "code",
   "execution_count": null,
   "id": "90981282-9378-4c72-a84c-d9178c383835",
   "metadata": {
    "scrolled": true
   },
   "outputs": [],
   "source": [
    "# Coverte para numpy array\n",
    "label_list = np.array(label_list)\n",
    "# Lista com os rótulos das imagens        \n",
    "print(label_list)"
   ]
  },
  {
   "cell_type": "markdown",
   "id": "480f0005-d2f5-4785-b183-51e0918a8137",
   "metadata": {},
   "source": [
    "## Plotando imagens do Dataset"
   ]
  },
  {
   "cell_type": "code",
   "execution_count": null,
   "id": "45722ddf-21ce-4f43-8080-00484282c06e",
   "metadata": {},
   "outputs": [],
   "source": [
    "# Seleciona apenas as primeiras N imagens de cada classe\n",
    "image_list_temp = []\n",
    "filename_list_temp = []\n",
    "\n",
    "# Itera pelo número de classes\n",
    "for i, class_name in enumerate(classes_list):\n",
    "    print(i, class_name)\n",
    "    # As 6 primeiras ocorrencias em que em label_list igual a class_name.\n",
    "    # Imagem.\n",
    "    image_list_temp += [image_list[j] for j in np.where(label_list==class_name)[0][:6]]\n",
    "    # Nome do arquivo.\n",
    "    filename_list_temp += [filename_list_[j] for j in np.where(label_list==class_name)[0][:6]]\n",
    "    "
   ]
  },
  {
   "cell_type": "code",
   "execution_count": null,
   "id": "be2b0826-8052-4d84-9f01-db7e4075f1ff",
   "metadata": {},
   "outputs": [],
   "source": [
    "# Número de imagens\n",
    "num_images = len(image_list_temp)\n",
    "\n",
    "# Calcular as dimensões da grade\n",
    "rows = math.ceil(num_images / 6)\n",
    "cols = 6\n",
    "\n",
    "# Criar a figura com grade ajustada\n",
    "fig, ax = plt.subplots(rows, cols, figsize=(9, 5))\n",
    "\n",
    "# Garantir que 'ax' seja bidimensional\n",
    "if rows == 1:\n",
    "    ax = ax[np.newaxis, :]  # Ajuste para uma única linha de subplots\n",
    "\n",
    "# Iterar pelas imagens e títulos\n",
    "for i, (image, filename) in enumerate(zip(image_list_temp, filename_list_temp)):\n",
    "    # Normalizar se necessário\n",
    "    if image.max() > 1:  # Assumindo que já está na escala [0, 255]\n",
    "        normalized_image = image\n",
    "    else:  # Escala [0, 1]\n",
    "        normalized_image = (image * 255).astype('uint8')\n",
    "\n",
    "    # Plotar imagem\n",
    "    ax[i // 6, i % 6].imshow(normalized_image, cmap='gray', vmin=0, vmax=255)\n",
    "    ax[i // 6, i % 6].set_title(str(filename))\n",
    "    ax[i // 6, i % 6].axis('off')  # Opcional: desativar os eixos\n",
    "\n",
    "# Remover subplots vazios\n",
    "for i in range(num_images, rows * cols):\n",
    "    fig.delaxes(ax[i // 6, i % 6])\n",
    "\n",
    "fig.tight_layout()\n",
    "plt.show()"
   ]
  },
  {
   "cell_type": "markdown",
   "id": "604a84ed-47ea-4094-aa52-13fc29e8ce9a",
   "metadata": {},
   "source": [
    "# Extração de Features"
   ]
  },
  {
   "cell_type": "code",
   "execution_count": null,
   "id": "087acde8-472c-4cff-b8af-13546f1c4622",
   "metadata": {},
   "outputs": [],
   "source": [
    "# Nomes das caracteristicas computadas\n",
    "features = ['area', 'major_axis', 'minor_axis', 'solidity', 'eccentricity']"
   ]
  },
  {
   "cell_type": "code",
   "execution_count": null,
   "id": "ded1a9c5-0cfa-402b-bc36-7a51dbc2dc7c",
   "metadata": {},
   "outputs": [],
   "source": [
    "# Inicializa as listas para armazenar as características e os rótulos filtrados\n",
    "feature_mat = []\n",
    "filtered_labels = []\n",
    "\n",
    "# Itera pelos pares de imagens segmentadas e seus rótulos\n",
    "for i, (image, label) in enumerate(zip(image_list, label_list)):\n",
    "    # Validar o tipo da entrada\n",
    "    if not isinstance(image, np.ndarray):\n",
    "        print(f\"Erro: a entrada não é uma matriz NumPy na imagem {i}. Tipo recebido: {type(image)}\")\n",
    "        continue\n",
    "\n",
    "    # Limpeza inicial da máscara\n",
    "    seg_image_cleaned = remove_small_objects(image > 0, min_size=50)\n",
    "    seg_image_cleaned = remove_small_holes(seg_image_cleaned, area_threshold=50)\n",
    "\n",
    "    # Garantir formato binário\n",
    "    seg_image_cleaned = np.asarray(seg_image_cleaned, dtype=bool)\n",
    "\n",
    "    # Rotula as regiões conectadas usando a função correta\n",
    "    im_lbl = skimage_label(seg_image_cleaned)\n",
    "\n",
    "    # Verifica se há regiões conectadas\n",
    "    props = regionprops(im_lbl)\n",
    "    if len(props) == 0:\n",
    "        print(f'Imagem {i} - ERRO: Nenhum objeto detectado após limpeza.')\n",
    "        continue\n",
    "\n",
    "    # Filtra apenas o maior objeto\n",
    "    largest_region = max(props, key=lambda x: x.area)\n",
    "\n",
    "    # Extrai características do maior objeto\n",
    "    area = largest_region.area\n",
    "    major_axis = largest_region.major_axis_length\n",
    "    minor_axis = largest_region.minor_axis_length\n",
    "    solidity = largest_region.solidity\n",
    "    eccentricity = largest_region.eccentricity\n",
    "\n",
    "    # Adiciona as características extraídas à lista de características\n",
    "    feature_list = [area, major_axis, minor_axis, solidity, eccentricity]\n",
    "    feature_mat.append(feature_list)\n",
    "\n",
    "    # Adiciona o rótulo correspondente à lista de rótulos filtrados\n",
    "    filtered_labels.append(label)\n",
    "\n",
    "# Cria o DataFrame com as características e os rótulos\n",
    "features = ['area', 'major_axis', 'minor_axis', 'solidity', 'eccentricity']\n",
    "df = pd.DataFrame(feature_mat, columns=features)\n",
    "df['class'] = filtered_labels\n",
    "\n",
    "# Exibe o DataFrame resultante\n",
    "display(df)"
   ]
  },
  {
   "cell_type": "code",
   "execution_count": null,
   "id": "7262328b-ce06-4413-980d-cf229bd0bb80",
   "metadata": {},
   "outputs": [],
   "source": [
    "# Converte a lista de caracteristicas para um arranjo NumPy\n",
    "feature_map = np.array(feature_mat)\n",
    "\n",
    "# Imprime a matriz de caracteristica\n",
    "with np.printoptions(precision=4, suppress=True):\n",
    "    print(feature_map.shape)"
   ]
  },
  {
   "cell_type": "code",
   "execution_count": null,
   "id": "66baab8d-41e0-4360-8511-2d296360b531",
   "metadata": {},
   "outputs": [],
   "source": [
    "# Algumas estatisticas sobre o conjunto de caracteristicas\n",
    "with np.printoptions(precision=4, suppress=True):\n",
    "    print(feature_map.min(0))\n",
    "    print(feature_map.max(0))\n",
    "    print(feature_map.mean(0))\n",
    "    print(feature_map.std(0))"
   ]
  },
  {
   "cell_type": "markdown",
   "id": "b733a757-59e3-45f5-916f-8e3ccd2169c9",
   "metadata": {},
   "source": [
    "# Plotando as Caracteristicas coletadas"
   ]
  },
  {
   "cell_type": "code",
   "execution_count": null,
   "id": "c52e7397-edc7-407f-b6bc-c7637c5d8343",
   "metadata": {},
   "outputs": [],
   "source": [
    "g = sns.PairGrid(df, hue='class', vars=features)\n",
    "g.fig.set_size_inches(8, 8)\n",
    "g.map_diag(sns.histplot)\n",
    "g.map_offdiag(sns.scatterplot)\n",
    "g.add_legend()"
   ]
  },
  {
   "cell_type": "markdown",
   "id": "833ec933-7030-49ce-a45d-d1d3efb20ed9",
   "metadata": {},
   "source": [
    "# Validação Cruzada - Hold-out"
   ]
  },
  {
   "cell_type": "code",
   "execution_count": null,
   "id": "8cec9106-0398-47ed-9faa-1197d5dc7519",
   "metadata": {},
   "outputs": [],
   "source": [
    "import numpy as np\n",
    "\n",
    "# Converte feature_mat para um array NumPy\n",
    "feature_mat_np = np.array(feature_mat)\n",
    "\n",
    "# Seleciona apenas as duas primeiras características (Área e maior eixo)\n",
    "feature_mat_ok = feature_mat_np[:, [0, 3]]\n",
    "\n",
    "# Exibe as características selecionadas\n",
    "print(feature_mat_ok)"
   ]
  },
  {
   "cell_type": "code",
   "execution_count": null,
   "id": "cce09168-d1f7-49ff-9a1e-5d36584d1707",
   "metadata": {},
   "outputs": [],
   "source": [
    "# Separa o conjunto de dados em 'feature_map_ok', de acordo com 'label_list'. \n",
    "# 30% das imagens vão para o conjunto de testes.\n",
    "X_train, X_test, y_train, y_test = model_selection.train_test_split(feature_mat_ok, \n",
    "                                                                    label_list, \n",
    "                                                                    test_size=0.3, \n",
    "                                                                    random_state=42,\n",
    "                                                                    stratify = label_list                                                                   \n",
    "                                                                   )"
   ]
  },
  {
   "cell_type": "markdown",
   "id": "ee1c85a0-1c52-4b34-94b0-30d01bbda23a",
   "metadata": {},
   "source": [
    "## Normalizando as caracteristicas"
   ]
  },
  {
   "cell_type": "code",
   "execution_count": null,
   "id": "1f34e4de-cb26-45c5-96e9-8852792eb44e",
   "metadata": {},
   "outputs": [],
   "source": [
    "# Média das caracteristicas do conjunto de treinamento\n",
    "X_train_mean = X_train.mean(0)\n",
    "# Desvio padrão das caracteristicas do conjunto de treinamento\n",
    "X_train_std = X_train.std(0)\n",
    "\n",
    "with np.printoptions(precision=4, suppress=True):\n",
    "    print(X_train.mean(0))\n",
    "    print(X_train.std(0))"
   ]
  },
  {
   "cell_type": "code",
   "execution_count": null,
   "id": "f474c811-3295-4c47-a4a2-948e075d81f0",
   "metadata": {},
   "outputs": [],
   "source": [
    "# Transformada Normal de Caracteristicas\n",
    "X_train_norm = (X_train - X_train_mean) / X_train_std\n",
    "X_test_norm = (X_test - X_train_mean) / X_train_std\n",
    "\n",
    "with np.printoptions(precision=4, suppress=True):\n",
    "    print(X_train_norm.mean(0))\n",
    "    print(X_test_norm.mean(0))"
   ]
  },
  {
   "cell_type": "markdown",
   "id": "06eef710-baf0-479c-a52b-ded94d424776",
   "metadata": {},
   "source": [
    "# Classificando usando K-NN"
   ]
  },
  {
   "cell_type": "code",
   "execution_count": null,
   "id": "1266c615-77a5-4912-9632-90bac54465fa",
   "metadata": {},
   "outputs": [],
   "source": [
    "# Constrói um classificador do tipo K-NN\n",
    "# K = 5\n",
    "clf = neighbors.KNeighborsClassifier(n_neighbors=3)\n",
    "\n",
    "# Treinando o classificador\n",
    "clf.fit(X_train_norm, y_train)\n",
    "\n",
    "# Testando o classificador\n",
    "pred = clf.predict(X_test_norm)"
   ]
  },
  {
   "cell_type": "markdown",
   "id": "51221b68-31fd-48cc-81af-f8a3d5bea53d",
   "metadata": {},
   "source": [
    "# Avaliação do modelo"
   ]
  },
  {
   "cell_type": "code",
   "execution_count": null,
   "id": "a186be5c-e5b0-4aac-ade3-7992e8817296",
   "metadata": {},
   "outputs": [],
   "source": [
    "# Acertos\n",
    "acertos = y_test == pred\n",
    "\n",
    "print('\\n Predição:')\n",
    "print(pred)\n",
    "print('\\nReal:')\n",
    "print(y_test)\n",
    "print('\\nAcerto/Erro:')\n",
    "print(acertos.astype(int))"
   ]
  },
  {
   "cell_type": "markdown",
   "id": "78bfc50e-47ad-4f37-8943-9dba234d67e1",
   "metadata": {},
   "source": [
    "## Matriz de confusão"
   ]
  },
  {
   "cell_type": "code",
   "execution_count": null,
   "id": "75ab4c36-e4c0-4a0d-96d2-88856f1ad72b",
   "metadata": {},
   "outputs": [],
   "source": [
    "print('\\nMatriz de confusão:')\n",
    "print(metrics.confusion_matrix(y_test, pred))\n",
    "\n",
    "print('\\nRelatório de classificação:')\n",
    "print(metrics.classification_report(y_test, pred))"
   ]
  },
  {
   "cell_type": "markdown",
   "id": "e254e556-a3b8-4af9-a6ac-977821f42929",
   "metadata": {},
   "source": [
    "# Classificador R-NN"
   ]
  },
  {
   "cell_type": "code",
   "execution_count": null,
   "id": "f98af724-8b78-40be-b5cc-cb30cc39f7fe",
   "metadata": {},
   "outputs": [],
   "source": [
    "# Constrói um classificador do tipo R-NN\n",
    "# Raio = 1.0 (valor pode ser ajustado com base nos dados)\n",
    "clf = RadiusNeighborsClassifier(radius=1)\n",
    "\n",
    "# Treinando o classificador\n",
    "clf.fit(X_train_norm, y_train)\n",
    "\n",
    "# Testando o classificador\n",
    "pred = clf.predict(X_test_norm)"
   ]
  },
  {
   "cell_type": "code",
   "execution_count": null,
   "id": "280d625c-a266-47a2-9167-9ae4757b4a9a",
   "metadata": {},
   "outputs": [],
   "source": [
    "# Acertos\n",
    "acertos = y_test == pred\n",
    "\n",
    "print('\\n Predição:')\n",
    "print(pred)\n",
    "print('\\nReal:')\n",
    "print(y_test)\n",
    "print('\\nAcerto/Erro:')\n",
    "print(acertos.astype(int))"
   ]
  },
  {
   "cell_type": "code",
   "execution_count": null,
   "id": "0a16defd-2b86-4008-a3d9-4fb0b1f52672",
   "metadata": {},
   "outputs": [],
   "source": [
    "print('\\nMatriz de confusão:')\n",
    "print(metrics.confusion_matrix(y_test, pred))\n",
    "\n",
    "print('\\nRelatório de classificação:')\n",
    "print(metrics.classification_report(y_test, pred))"
   ]
  }
 ],
 "metadata": {
  "kernelspec": {
   "display_name": "Python 3 (ipykernel)",
   "language": "python",
   "name": "python3"
  },
  "language_info": {
   "codemirror_mode": {
    "name": "ipython",
    "version": 3
   },
   "file_extension": ".py",
   "mimetype": "text/x-python",
   "name": "python",
   "nbconvert_exporter": "python",
   "pygments_lexer": "ipython3",
   "version": "3.12.7"
  }
 },
 "nbformat": 4,
 "nbformat_minor": 5
}
